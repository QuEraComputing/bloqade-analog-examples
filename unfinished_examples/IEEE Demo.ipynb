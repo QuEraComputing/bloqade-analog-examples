{
 "cells": [
  {
   "cell_type": "markdown",
   "id": "08bd2975",
   "metadata": {},
   "source": [
    "# Bloqade python demonstration\n",
    "\n",
    "It is simple to install bloqade using pip https://pypi.org/project/bloqade/ via `pip install bloqade`. Documentation for bloqade is provided here https://bloqade.quera.com/."
   ]
  },
  {
   "cell_type": "code",
   "execution_count": 1,
   "id": "ecaddca1",
   "metadata": {},
   "outputs": [],
   "source": [
    "import numpy as np\n",
    "import matplotlib.pyplot as plt\n",
    "\n",
    "import bloqade"
   ]
  },
  {
   "cell_type": "markdown",
   "id": "08c4cea5",
   "metadata": {},
   "source": [
    "One can construct programs using a builder pattern. This pattern means that you can chain together commands to create a complete program.\n",
    "\n",
    "Let us demonstrate this functionality by implementing the \"hello world\" of analog Hamiltonian simulation: Rabi oscillations. Aquila's neutral atom hardware requires 4 time dependent fields: position of atoms; Rabi frequency as a function of time; Rabi frequency phase as a function of time; Detuning as a function of time."
   ]
  },
  {
   "cell_type": "code",
   "execution_count": 2,
   "id": "d579b82f",
   "metadata": {},
   "outputs": [],
   "source": [
    "#Start by specifying an atom position in 2d space. Units are in micrometers\n",
    "program = bloqade.start.add_position( (0,0) )\n",
    "\n",
    "#Next, define the Rabi frequency as a piecewise linear function\n",
    "program = program.rydberg.rabi.amplitude.uniform.piecewise_linear(\n",
    "    durations=[0.06,0.06,0.06], values=[0,13.09,13.09,0])\n",
    "\n",
    "#Next, define the detuning, which we choose to be constant of 0\n",
    "program = program.detuning.uniform.constant( duration=0.18, value = 0.0 )\n",
    "\n",
    "# Phase, if unspecified, is implied to be a constant through evolution.\n",
    "#program = program.rydberg.rabi.phase.uniform.constant( duration=[0.22], value=0.0 )"
   ]
  },
  {
   "cell_type": "code",
   "execution_count": 3,
   "id": "ea2201c4",
   "metadata": {},
   "outputs": [],
   "source": [
    "# This specification can be chained together in a single command\n",
    "program = bloqade.start.add_position( (0,0) )\\\n",
    "    .rydberg.rabi.amplitude.uniform.piecewise_linear(\n",
    "        durations=[0.06,0.06,0.06], values=[0,13.09,13.09,0])\\\n",
    "    .detuning.uniform.constant(\n",
    "        duration=0.18, value = 0.0 )\\\n",
    "    .rydberg.rabi.phase.uniform.constant(\n",
    "        duration=0.18, value=0.0 )"
   ]
  },
  {
   "cell_type": "markdown",
   "id": "0f67d9f0",
   "metadata": {},
   "source": [
    "Given a specific program instance, one may run it through emulation or submit through Aquila. Lets do both!\n",
    "\n",
    "## Emulate\n",
    "First, let us emulate this evolution using Braket's local emulator"
   ]
  },
  {
   "cell_type": "code",
   "execution_count": 4,
   "id": "cea4f740",
   "metadata": {},
   "outputs": [],
   "source": [
    "braket_emulated = program.braket.local_emulator()\n",
    "results = braket_emulated.run(1000).report()\n",
    "\n",
    "bitstrings = results.bitstrings()"
   ]
  },
  {
   "cell_type": "markdown",
   "id": "1dd29b94",
   "metadata": {},
   "source": [
    "The protocol was designed to implement a $\\pi/2$ protocol preparing the Y superposition state $(|0\\rangle + i|1\\rangle)/\\sqrt{2}$. It should give us a 50% chance of measuring ground or excited state. Is this true?"
   ]
  },
  {
   "cell_type": "code",
   "execution_count": 5,
   "id": "f4a058ae",
   "metadata": {},
   "outputs": [
    {
     "name": "stdout",
     "output_type": "stream",
     "text": [
      "[OrderedDict([('0', 506), ('1', 494)])]\n"
     ]
    }
   ],
   "source": [
    "print(results.counts)"
   ]
  },
  {
   "cell_type": "markdown",
   "id": "c51ac423",
   "metadata": {},
   "source": [
    "## Submit to Aquila\n",
    "Submission to Aquila is also simple. First, find your AWS credentials through your dashboard"
   ]
  },
  {
   "cell_type": "code",
   "execution_count": 6,
   "id": "614b8bf2",
   "metadata": {},
   "outputs": [
    {
     "name": "stdout",
     "output_type": "stream",
     "text": [
      "env: AWS_DEFAULT_REGION=us-east-1\n",
      "env: AWS_ACCESS_KEY_ID=X\n",
      "env: AWS_SECRET_ACCESS_KEY=XX\n",
      "env: AWS_SESSION_TOKEN=XXX\n"
     ]
    }
   ],
   "source": [
    "%set_env AWS_DEFAULT_REGION=us-east-1\n",
    "%set_env AWS_ACCESS_KEY_ID=X\n",
    "%set_env AWS_SECRET_ACCESS_KEY=XX\n",
    "%set_env AWS_SESSION_TOKEN=XXX"
   ]
  },
  {
   "cell_type": "markdown",
   "id": "a686f2df",
   "metadata": {},
   "source": [
    "Next, submit the job through Aquila. One of the very handy functionalities is to serialize results and runs to and from file. For this demo, let us load a previously run set of data from file."
   ]
  },
  {
   "cell_type": "code",
   "execution_count": 10,
   "id": "912d5dee",
   "metadata": {},
   "outputs": [
    {
     "ename": "AttributeError",
     "evalue": "module 'bloqade' has no attribute 'load_batch'",
     "output_type": "error",
     "traceback": [
      "\u001b[1;31m---------------------------------------------------------------------------\u001b[0m",
      "\u001b[1;31mAttributeError\u001b[0m                            Traceback (most recent call last)",
      "Cell \u001b[1;32mIn[10], line 10\u001b[0m\n\u001b[0;32m      8\u001b[0m     bloqade\u001b[38;5;241m.\u001b[39msave_batch(aquila_run,filename)\n\u001b[0;32m      9\u001b[0m \u001b[38;5;28;01melse\u001b[39;00m:\n\u001b[1;32m---> 10\u001b[0m     aquila_run \u001b[38;5;241m=\u001b[39m bloqade\u001b[38;5;241m.\u001b[39mload_batch(filename)\n\u001b[0;32m     12\u001b[0m results_aquila    \u001b[38;5;241m=\u001b[39m aquila_run\u001b[38;5;241m.\u001b[39mreport()\n\u001b[0;32m     13\u001b[0m bitstrings_aquila \u001b[38;5;241m=\u001b[39m results\u001b[38;5;241m.\u001b[39mbitstrings()\n",
      "\u001b[1;31mAttributeError\u001b[0m: module 'bloqade' has no attribute 'load_batch'"
     ]
    }
   ],
   "source": [
    "ITS_DEMO_TIME = False\n",
    "filename = \"single_run_demo.json\"\n",
    "\n",
    "if ITS_DEMO_TIME==True:\n",
    "    aquila     = program.braket.aquila()\n",
    "    aquila_run = aquila.run(100) # This command is blocking, and will not continue until the job is complete.\n",
    "    # !!! If the queue is full or Aquila's operating window is not open, this will block for a long time.\n",
    "    bloqade.save_batch(aquila_run,filename)\n",
    "else:\n",
    "    aquila_run = bloqade.load_batch(filename)\n",
    "    \n",
    "results_aquila    = aquila_run.report()\n",
    "bitstrings_aquila = results.bitstrings()"
   ]
  },
  {
   "cell_type": "markdown",
   "id": "1bbe8e92",
   "metadata": {},
   "source": [
    "Are these results consistent with being in the Y superposition state? Lets see!"
   ]
  },
  {
   "cell_type": "code",
   "execution_count": null,
   "id": "ba666ffe",
   "metadata": {},
   "outputs": [],
   "source": [
    "print(results_aquila.counts)\n",
    "results_aquila.show()"
   ]
  },
  {
   "cell_type": "markdown",
   "id": "accabf3c",
   "metadata": {},
   "source": [
    "# And so much more...\n",
    "\n",
    "Beyond this very basic functionality, bloqade adds extra flexibility at the convenience of the user. Let us implement **blockaded Rabi oscillations** on two atoms in this expanded example, which is a simple demonstration of how easy it is to generate entanglement.\n",
    "\n",
    "## Feature: Unassigned programs\n",
    "Instead of generating programs with explicit values, one can instead include variables which can be set later"
   ]
  },
  {
   "cell_type": "code",
   "execution_count": null,
   "id": "898eb90f",
   "metadata": {},
   "outputs": [],
   "source": [
    "program = bloqade.start.add_positions( [(0,0), (0,4)] )\\\n",
    "    .rydberg.rabi.amplitude.uniform.piecewise_linear(\n",
    "        durations=[0.06,bloqade.var(\"time\"),0.06], values=[0,15,15,0])\\\n",
    "    .detuning.uniform.constant(\n",
    "        duration=0.12+bloqade.var(\"time\"), value = 0.0 )\\\n",
    "    .rydberg.rabi.phase.uniform.constant(\n",
    "        duration=0.12+bloqade.var(\"time\"), value=0.0 )"
   ]
  },
  {
   "cell_type": "markdown",
   "id": "e0066414",
   "metadata": {},
   "source": [
    "## Feature: Batches of programs\n",
    "Once the program with a variable `time` has been created, one can create a \"batch\" of tasks for a range of times"
   ]
  },
  {
   "cell_type": "code",
   "execution_count": null,
   "id": "9bb06915",
   "metadata": {},
   "outputs": [],
   "source": [
    "times = np.linspace(0.05,1,31)\n",
    "\n",
    "program_assigned = program.batch_assign(time = times)"
   ]
  },
  {
   "cell_type": "markdown",
   "id": "d2e2cb88",
   "metadata": {},
   "source": [
    "## Feature: QuEra emulator\n",
    "Another back-end for simulation is a QuEra emulator, which is faster."
   ]
  },
  {
   "cell_type": "code",
   "execution_count": null,
   "id": "48936d01",
   "metadata": {},
   "outputs": [],
   "source": [
    "\n",
    "bloqade_emulated = program_assigned.braket.local_emulator()#bloqade.python()\n",
    "results_bloqade = bloqade_emulated.run(2000).report()\n",
    "\n",
    "bitstrings_bloqade = results_bloqade.bitstrings()"
   ]
  },
  {
   "cell_type": "code",
   "execution_count": null,
   "id": "0fd86360",
   "metadata": {},
   "outputs": [],
   "source": [
    "results_bloqade.show()"
   ]
  },
  {
   "cell_type": "markdown",
   "id": "74999f81",
   "metadata": {},
   "source": [
    "## Feature: Parallelization\n",
    "\n",
    "Before we submit this program to Aquila, consider: it is silly to only implement dynamics of only two atoms when you can use up to 256 in a large area. Because interactions are extremely local, one can instead **parallelize** a small set of atoms many times a safe distance (~$25\\mu$m) apart to reduce the number of measurements required to accumulate statistics."
   ]
  },
  {
   "cell_type": "code",
   "execution_count": null,
   "id": "3b7aee24",
   "metadata": {},
   "outputs": [],
   "source": [
    "program_parallelized = program_assigned.parallelize(cluster_spacing=25)"
   ]
  },
  {
   "cell_type": "code",
   "execution_count": null,
   "id": "1a8a215a",
   "metadata": {},
   "outputs": [],
   "source": [
    "# Plot the atom register here"
   ]
  },
  {
   "cell_type": "markdown",
   "id": "4cd2798e",
   "metadata": {},
   "source": [
    "Neat! Now, let us submit to Aquila in the same manner. Because the number of shots will be a bit larger ($100*31$) we submit jobs asynchronously."
   ]
  },
  {
   "cell_type": "code",
   "execution_count": null,
   "id": "74067f2e",
   "metadata": {},
   "outputs": [],
   "source": [
    "ITS_DEMO_TIME = False\n",
    "filename = \"blockaded_batch_demo.json\"\n",
    "\n",
    "if ITS_DEMO_TIME==True:\n",
    "    aquila     = program_parallelized.braket.aquila()\n",
    "    aquila_run = aquila.submit(100)\n",
    "    \n",
    "    bloqade.save_batch(filename,aquila_run)\n",
    "else:\n",
    "    aquila_run = bloqade.load_batch(filename)"
   ]
  },
  {
   "cell_type": "code",
   "execution_count": null,
   "id": "0d8b25fa",
   "metadata": {},
   "outputs": [],
   "source": [
    "# Later on, retrieve data from Braket\n",
    "if ITS_DEMO_TIME==True:\n",
    "    aquila_run.fetch()                      # Fetch from remote\n",
    "    bloqade.save_batch(filename,aquila_run) # Save results so you don't need to fetch every time\n",
    "else:\n",
    "    print(\"Its demo time\")"
   ]
  },
  {
   "cell_type": "code",
   "execution_count": null,
   "id": "0f0d61aa",
   "metadata": {},
   "outputs": [],
   "source": [
    "# Plot here\n",
    "aquila_run.report().show()"
   ]
  },
  {
   "cell_type": "code",
   "execution_count": null,
   "id": "e9ca5a24",
   "metadata": {},
   "outputs": [],
   "source": [
    "# Collect bitstring results for analysis\n",
    "bitstrings_aquila = aquila_run.report().bitstrings()\n",
    "counts_aquila = aquila_run.report().counts\n",
    "counts_emulate = results_bloqade.counts"
   ]
  },
  {
   "cell_type": "code",
   "execution_count": null,
   "id": "3cbca14c",
   "metadata": {},
   "outputs": [],
   "source": [
    "counts_00_aquila = np.array([ct.get(\"00\",0) / sum(ct.values()) for ct in counts_aquila])\n",
    "counts_01_aquila = np.array([ct.get(\"01\",0) / sum(ct.values()) for ct in counts_aquila])\n",
    "counts_10_aquila = np.array([ct.get(\"10\",0) / sum(ct.values()) for ct in counts_aquila])\n",
    "counts_11_aquila = np.array([ct.get(\"11\",0) / sum(ct.values()) for ct in counts_aquila])\n",
    "\n",
    "counts_00_emulate = np.array([ct.get(\"00\",0) / sum(ct.values()) for ct in counts_emulate])\n",
    "counts_01_emulate = np.array([ct.get(\"01\",0) / sum(ct.values()) for ct in counts_emulate])\n",
    "counts_10_emulate = np.array([ct.get(\"10\",0) / sum(ct.values()) for ct in counts_emulate])\n",
    "counts_11_emulate = np.array([ct.get(\"11\",0) / sum(ct.values()) for ct in counts_emulate])\n"
   ]
  },
  {
   "cell_type": "code",
   "execution_count": null,
   "id": "a993dd41",
   "metadata": {},
   "outputs": [],
   "source": [
    "plt.plot(times,counts_00_aquila,label=\"00\",color=\"#a8b512\")\n",
    "plt.plot(times,counts_01_aquila+counts_10_aquila,label=\"01+10\",color=\"#C2477F\")\n",
    "plt.plot(times,counts_11_aquila,label=\"11\",color=\"#6437FF\")\n",
    "\n",
    "plt.plot(times,counts_11_emulate,\"k--\",label=\"Emulated\")\n",
    "\n",
    "plt.legend(loc=1)\n",
    "plt.xlabel(\"Time\")\n",
    "plt.ylabel(\"Counts\")\n",
    "plt.axis([min(times),max(times),plt.axis()[2],plt.axis()[3]])"
   ]
  },
  {
   "cell_type": "code",
   "execution_count": null,
   "id": "96d19c3a",
   "metadata": {},
   "outputs": [],
   "source": []
  }
 ],
 "metadata": {
  "kernelspec": {
   "display_name": "Python 3 (ipykernel)",
   "language": "python",
   "name": "python3"
  },
  "language_info": {
   "codemirror_mode": {
    "name": "ipython",
    "version": 3
   },
   "file_extension": ".py",
   "mimetype": "text/x-python",
   "name": "python",
   "nbconvert_exporter": "python",
   "pygments_lexer": "ipython3",
   "version": "3.11.4"
  }
 },
 "nbformat": 4,
 "nbformat_minor": 5
}
